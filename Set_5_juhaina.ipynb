{
  "nbformat": 4,
  "nbformat_minor": 0,
  "metadata": {
    "colab": {
      "provenance": [],
      "authorship_tag": "ABX9TyOzClXpPB247+3oPuBVlYgw",
      "include_colab_link": true
    },
    "kernelspec": {
      "name": "python3",
      "display_name": "Python 3"
    },
    "language_info": {
      "name": "python"
    }
  },
  "cells": [
    {
      "cell_type": "markdown",
      "metadata": {
        "id": "view-in-github",
        "colab_type": "text"
      },
      "source": [
        "<a href=\"https://colab.research.google.com/github/Juhainayasmin09/Housing-Price-Prediction/blob/main/Set_5_juhaina.ipynb\" target=\"_parent\"><img src=\"https://colab.research.google.com/assets/colab-badge.svg\" alt=\"Open In Colab\"/></a>"
      ]
    },
    {
      "cell_type": "code",
      "source": [
        "import pandas as pd\n",
        "import numpy as np\n",
        "from sklearn.model_selection import train_test_split\n",
        "from sklearn.linear_model import LinearRegression\n",
        "from sklearn.metrics import r2_score, mean_squared_error\n",
        "import matplotlib.pyplot as plt\n",
        "import seaborn as sns\n",
        "\n",
        "# Loading the dataset\n",
        "df = pd.read_csv('housing.csv', encoding='ascii')\n",
        "\n",
        "# Checking the shape and basic info\n",
        "print(\"Dataset shape:\", df.shape)\n",
        "print(\"\\\n",
        "Column names:\")\n",
        "print(df.columns.tolist())\n",
        "print(\"\\\n",
        "Data types:\")\n",
        "print(df.dtypes)\n",
        "print(\"\\\n",
        "First few rows:\")\n",
        "print(df.head())"
      ],
      "metadata": {
        "id": "t81iyFfHluKI"
      },
      "execution_count": null,
      "outputs": []
    },
    {
      "cell_type": "markdown",
      "source": [],
      "metadata": {
        "id": "2pvshxrkqaNR"
      }
    },
    {
      "cell_type": "code",
      "source": [
        "# Checking for missing values and basic statistics\n",
        "print(\"Missing values:\")\n",
        "print(df.isnull().sum())\n",
        "print(\"\\\n",
        "Basic statistics:\")\n",
        "print(df.describe())"
      ],
      "metadata": {
        "id": "tG1jU8dJqOOD"
      },
      "execution_count": null,
      "outputs": []
    },
    {
      "cell_type": "code",
      "source": [
        "# Handle missing values in 'total_bedrooms'\n",
        "df['total_bedrooms'] = df['total_bedrooms'].fillna(df['total_bedrooms'].median())\n",
        "\n",
        "# Convert 'ocean_proximity' to dummy variables (one-hot encoding)\n",
        "df_encoded = pd.get_dummies(df, columns=['ocean_proximity'], drop_first=True)\n",
        "\n",
        "# Define features and target\n",
        "X = df_encoded.drop('median_house_value', axis=1)\n",
        "y = df_encoded['median_house_value']\n",
        "\n",
        "# Output shapes and feature columns\n",
        "print(\"Features shape:\", X.shape)\n",
        "print(\"Target shape:\", y.shape)\n",
        "print(\"Feature columns:\")\n",
        "print(X.columns.tolist())"
      ],
      "metadata": {
        "id": "IcNpLSWHqYER"
      },
      "execution_count": null,
      "outputs": []
    },
    {
      "cell_type": "code",
      "source": [
        "# Spliting data into training and testing sets (80-20 split)\n",
        "X_train, X_test, y_train, y_test = train_test_split(X, y, test_size=0.2, random_state=42)\n",
        "\n",
        "print(\"Training set size:\", X_train.shape[0])\n",
        "print(\"Testing set size:\", X_test.shape[0])"
      ],
      "metadata": {
        "id": "H22FhszatM0M"
      },
      "execution_count": null,
      "outputs": []
    },
    {
      "cell_type": "code",
      "source": [
        "# Train the linear regression model\n",
        "model = LinearRegression()\n",
        "model.fit(X_train, y_train)\n",
        "\n",
        "# Make predictions\n",
        "y_pred = model.predict(X_test)\n",
        "\n",
        "# Evaluate model performance\n",
        "r2 = r2_score(y_test, y_pred)\n",
        "mse = mean_squared_error(y_test, y_pred)\n",
        "rmse = np.sqrt(mse)\n",
        "\n",
        "print(\"Model Performance:\")\n",
        "print(\"R-squared score:\", r2)\n",
        "print(\"Mean Squared Error:\", mse)\n",
        "print(\"Root Mean Squared Error:\", rmse)"
      ],
      "metadata": {
        "id": "zve4yf4TtwoI"
      },
      "execution_count": null,
      "outputs": []
    },
    {
      "cell_type": "markdown",
      "source": [],
      "metadata": {
        "id": "THNJJYdNwyGB"
      }
    }
  ]
}